{
 "cells": [
  {
   "cell_type": "code",
   "execution_count": 1,
   "source": [
    "#run this cell\n",
    "    include(\"polynomials.jl\")\n",
    "    include(\"hypergeometricseries.jl\")"
   ],
   "outputs": [
    {
     "output_type": "execute_result",
     "data": {
      "text/plain": [
       "rand (generic function with 74 methods)"
      ]
     },
     "metadata": {},
     "execution_count": 1
    }
   ],
   "metadata": {}
  },
  {
   "cell_type": "markdown",
   "source": [
    "# Making Conjectures on Hypergeometric series using a computer"
   ],
   "metadata": {}
  },
  {
   "cell_type": "markdown",
   "source": [
    "## Introduction\n",
    "\n",
    "This code contains three basic types of functions"
   ],
   "metadata": {}
  },
  {
   "cell_type": "markdown",
   "source": [
    "- Polynomials\n",
    "\n",
    "   The coefficients of the Polynomial can be from any sub-type of `Number`, and every polynomial is associated with an indeterminate (usually `X`)."
   ],
   "metadata": {}
  },
  {
   "cell_type": "code",
   "execution_count": 2,
   "source": [
    "Polynomial([0, 1], X)"
   ],
   "outputs": [
    {
     "output_type": "execute_result",
     "data": {
      "text/plain": [
       "1X + 0"
      ]
     },
     "metadata": {},
     "execution_count": 2
    }
   ],
   "metadata": {}
  },
  {
   "cell_type": "code",
   "execution_count": 3,
   "source": [
    "x^3 - 5x + 1"
   ],
   "outputs": [
    {
     "output_type": "execute_result",
     "data": {
      "text/plain": [
       "1X^3 + -5X + 1"
      ]
     },
     "metadata": {},
     "execution_count": 3
    }
   ],
   "metadata": {}
  },
  {
   "cell_type": "code",
   "execution_count": 4,
   "source": [
    "#Nested polynomials can be used for polynomials in several variables\n",
    "(k + 3)*n^2 - (3k)*n + 1"
   ],
   "outputs": [
    {
     "output_type": "execute_result",
     "data": {
      "text/plain": [
       "(1K + 3)N^2 + (-3K + 0)N + (1)"
      ]
     },
     "metadata": {},
     "execution_count": 4
    }
   ],
   "metadata": {}
  },
  {
   "cell_type": "markdown",
   "source": [
    "- Hypergeometric terms\n",
    "\n",
    "A hypergeometric term (a sequence $(c_n)_{n \\in \\mathbb{N}}$ where $c_0 = 1$ and $\\frac{c_{k+1}}{c_k} = \\frac{P(k)}{Q(k)}$, where $P$ and $Q$ are polynomials in $k$) is implemented as a `struct` containing the polynomials $P(k)$ and $Q(k)$ as data."
   ],
   "metadata": {}
  },
  {
   "cell_type": "code",
   "execution_count": 5,
   "source": [
    "HypergeometricTerm(3k^2 - 1, 4k)"
   ],
   "outputs": [
    {
     "output_type": "execute_result",
     "data": {
      "text/plain": [
       "Hypergeometric term with ratio: 3K^2 + -1 // 4K + 0"
      ]
     },
     "metadata": {},
     "execution_count": 5
    }
   ],
   "metadata": {}
  },
  {
   "cell_type": "code",
   "execution_count": 6,
   "source": [
    "HypergeometricTerm(3k^2 - 1, 4k)(2)"
   ],
   "outputs": [
    {
     "output_type": "execute_result",
     "data": {
      "text/plain": [
       "11//16"
      ]
     },
     "metadata": {},
     "execution_count": 6
    }
   ],
   "metadata": {}
  },
  {
   "cell_type": "markdown",
   "source": [
    "- Hypergeometric series\n",
    "\n",
    "A hypergeometric series (the series $\\sum_{k = 0}^{\\infty} c_k$ corresponding to the hypergeometric term $(c_k)_{k \\in \\mathbb{N}}$) is also implemented as a struct containing two polynomials. In this code, by convention, the terms $c_k$ in a hypergeometric series are not just functions of $k$, but depend on another fixed parameter $n$.\n",
    "\n",
    "Since infinite sums are difficult to handle on a computer, **the summation is actually taken from $k = 0$ to $n$**. This was chosen because most identities involving binomial coefficients are of this form."
   ],
   "metadata": {}
  },
  {
   "cell_type": "code",
   "execution_count": 10,
   "source": [
    "HypergeometricSeries((3k^2 - 1)*n + (2k^0)*n^0, (4k)*n)"
   ],
   "outputs": [
    {
     "output_type": "execute_result",
     "data": {
      "text/plain": [
       "Summation of Hypergeometric term with ratio: (3K^2 + -1)N + (2) // (4K + 0)N + (0)"
      ]
     },
     "metadata": {},
     "execution_count": 10
    }
   ],
   "metadata": {}
  },
  {
   "cell_type": "markdown",
   "source": [
    "## The algorithm\n",
    "\n",
    "The objective of the algorithm is to conjecture closed-form expressions (in the form of hypergeometric terms in `n`) for a hypergeometric series in `n` and `k`, being summed over `k`.\n",
    "\n",
    "It accomplishes this by\n",
    "- generating a random hypergeometric term or series $h$.\n",
    "- evaluating it for the first $m$ values (usually $10$) of `n` (v = ($h(1), h(2), \\ldots, h(m)$).\n",
    "- storing this in a dictionary, with the key equal to the above set of points $v$ and the value being a list containing all matching hypergeometric series/terms with the same set of points.\n",
    "\n",
    "Two non-trivially equivalent series or terms are checked for matches at more places, and then this match is stated as a conjecture.\n",
    "\n",
    "(This is inspired by the algorithm behind the [Ramanujan machine](https://www.ramanujanmachine.com/).)\n",
    "\n",
    "The actual code is given below:"
   ],
   "metadata": {}
  },
  {
   "cell_type": "code",
   "execution_count": 8,
   "source": [
    "#the number of iterations and the number of matches\n",
    "n_iter, matches = 10_000, 10"
   ],
   "outputs": [
    {
     "output_type": "execute_result",
     "data": {
      "text/plain": [
       "(10000, 10)"
      ]
     },
     "metadata": {},
     "execution_count": 8
    }
   ],
   "metadata": {}
  },
  {
   "cell_type": "code",
   "execution_count": 9,
   "source": [
    "#the main dictionary which stores all the series\n",
    "dictionary = Dict{NTuple{matches, Rational}, Vector{SpecialFunction}}()"
   ],
   "outputs": [
    {
     "output_type": "execute_result",
     "data": {
      "text/plain": [
       "Dict{NTuple{10,Rational},Array{SpecialFunction,1}}()"
      ]
     },
     "metadata": {},
     "execution_count": 9
    }
   ],
   "metadata": {}
  },
  {
   "cell_type": "code",
   "execution_count": 17,
   "source": [
    "#this cell can be executed multiple times to add more entries to the dictionary\n",
    "for _ ∈ 1:n_iter\n",
    "    try\n",
    "        #picks a random hypergeometric term or series\n",
    "        h = rand() < 0.5 ? rand(HypergeometricSeries{Int, K, N}) : rand(HypergeometricTerm{Int, N})\n",
    "        #computes the list of values (at the first 10 places)\n",
    "        values = ntuple(i -> h(i), matches)\n",
    "\n",
    "        if haskey(dictionary, values)\n",
    "            #checks whether there are no equivalent series already matched\n",
    "            if !any([h.num * g.den == h.den * g.num for g ∈ dictionary[values] if typeof(g) == typeof(h)])\n",
    "                #adds the series to the dictionary at the corresponding key\n",
    "                push!(dictionary[values], h)\n",
    "            end\n",
    "        else\n",
    "            #create a new array containing just `h`\n",
    "            dictionary[values] = SpecialFunction[h]\n",
    "        end\n",
    "    catch error end\n",
    "end"
   ],
   "outputs": [],
   "metadata": {
    "tags": []
   }
  },
  {
   "cell_type": "code",
   "execution_count": 18,
   "source": [
    "#filtering the matches\n",
    "matched = Dict([(v, f) for (v, f) ∈ dictionary if length(f) > 1]);        "
   ],
   "outputs": [],
   "metadata": {}
  },
  {
   "cell_type": "code",
   "execution_count": 19,
   "source": [
    "#displaying a particular set of hypergeometric terms/series that are conjectured to be equal\n",
    "rand(matched).second\n",
    "#this cell can be run multiple times to display different matches"
   ],
   "outputs": [
    {
     "output_type": "execute_result",
     "data": {
      "text/plain": [
       "2-element Array{SpecialFunction,1}:\n",
       "                        Hypergeometric term with ratio: -1N + -1 // -1N + -2\n",
       " Summation of Hypergeometric term with ratio: (1K + -2)N + (0) // (1)N + (2)"
      ]
     },
     "metadata": {},
     "execution_count": 19
    }
   ],
   "metadata": {}
  },
  {
   "cell_type": "markdown",
   "source": [
    "## Advantages\n",
    "\n",
    "- In this approach, conjectures can also be verified and disproved by a computer, using powerful established techniques such as the Wilf-Zeilberger algorithm and Gosper's algorithm. This automates the process of mathematics, in the specific case of binomial identities, from end-to-end.\n",
    "- The Ramanujan machine has produced some very elegant conjectures about continued fractions, using the approach that the above algorithm is based on. One would expect to eventually find similar novel identities using this technique, if the above algorithm is run for a sufficiently long time."
   ],
   "metadata": {}
  },
  {
   "cell_type": "markdown",
   "source": [
    "## Disadvantages\n",
    "\n",
    "- To ensure that matches are discovered within a reasonable amount of time, restrictions must be placed on the types of polynomials generated. In this code, for example, the polynomials are restricted to linear polynomials with coefficients in the range $\\{-3, -2, -1, 0, 1, 2, 3\\}$. This also limits the kinds of conjectures that are made. Also, in its present form, the machine can make conjectures involving just two variables - the regular variable `n` and the summation variable `k`.\n",
    "- This is computationally very intensive, and requires a lot of time to generate novel results."
   ],
   "metadata": {}
  },
  {
   "cell_type": "markdown",
   "source": [
    "---"
   ],
   "metadata": {}
  }
 ],
 "metadata": {
  "kernelspec": {
   "display_name": "Julia 1.5.3",
   "language": "julia",
   "name": "julia-1.5"
  },
  "language_info": {
   "file_extension": ".jl",
   "mimetype": "application/julia",
   "name": "julia",
   "version": "1.5.3"
  }
 },
 "nbformat": 4,
 "nbformat_minor": 4
}